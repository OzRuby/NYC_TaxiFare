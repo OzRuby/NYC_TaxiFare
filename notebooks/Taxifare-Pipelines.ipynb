{
 "cells": [
  {
   "cell_type": "markdown",
   "metadata": {},
   "source": [
    "# Solve the Taxi Fare Prediction Problem with a Pipeline"
   ]
  },
  {
   "cell_type": "markdown",
   "metadata": {},
   "source": [
    "For the Taxi Fare Prediction Problem we will be using:\n",
    "- Custom encoders for the distance and time features\n",
    "- OneHot Encoder in order to encode the hour and day of week features\n",
    "- SimpleImputer to fill missing values\n",
    "- A simple linear regression\n",
    "- A pipeline to put all together\n",
    "\n",
    "Then: \n",
    "- train this pipeline\n",
    "- apply the pipeline on test data\n",
    "- generate predictions and submit these new predictions to Kaggle"
   ]
  },
  {
   "cell_type": "markdown",
   "metadata": {},
   "source": [
    "## First pipeline"
   ]
  },
  {
   "cell_type": "code",
   "execution_count": 94,
   "metadata": {},
   "outputs": [
    {
     "data": {
      "text/html": [
       "<div>\n",
       "<style scoped>\n",
       "    .dataframe tbody tr th:only-of-type {\n",
       "        vertical-align: middle;\n",
       "    }\n",
       "\n",
       "    .dataframe tbody tr th {\n",
       "        vertical-align: top;\n",
       "    }\n",
       "\n",
       "    .dataframe thead th {\n",
       "        text-align: right;\n",
       "    }\n",
       "</style>\n",
       "<table border=\"1\" class=\"dataframe\">\n",
       "  <thead>\n",
       "    <tr style=\"text-align: right;\">\n",
       "      <th></th>\n",
       "      <th>key</th>\n",
       "      <th>fare_amount</th>\n",
       "      <th>pickup_datetime</th>\n",
       "      <th>pickup_longitude</th>\n",
       "      <th>pickup_latitude</th>\n",
       "      <th>dropoff_longitude</th>\n",
       "      <th>dropoff_latitude</th>\n",
       "      <th>passenger_count</th>\n",
       "    </tr>\n",
       "  </thead>\n",
       "  <tbody>\n",
       "    <tr>\n",
       "      <th>0</th>\n",
       "      <td>2009-06-15 17:26:21.0000001</td>\n",
       "      <td>4.5</td>\n",
       "      <td>2009-06-15 17:26:21 UTC</td>\n",
       "      <td>-73.844311</td>\n",
       "      <td>40.721319</td>\n",
       "      <td>-73.841610</td>\n",
       "      <td>40.712278</td>\n",
       "      <td>1</td>\n",
       "    </tr>\n",
       "    <tr>\n",
       "      <th>1</th>\n",
       "      <td>2010-01-05 16:52:16.0000002</td>\n",
       "      <td>16.9</td>\n",
       "      <td>2010-01-05 16:52:16 UTC</td>\n",
       "      <td>-74.016048</td>\n",
       "      <td>40.711303</td>\n",
       "      <td>-73.979268</td>\n",
       "      <td>40.782004</td>\n",
       "      <td>1</td>\n",
       "    </tr>\n",
       "    <tr>\n",
       "      <th>2</th>\n",
       "      <td>2011-08-18 00:35:00.00000049</td>\n",
       "      <td>5.7</td>\n",
       "      <td>2011-08-18 00:35:00 UTC</td>\n",
       "      <td>-73.982738</td>\n",
       "      <td>40.761270</td>\n",
       "      <td>-73.991242</td>\n",
       "      <td>40.750562</td>\n",
       "      <td>2</td>\n",
       "    </tr>\n",
       "    <tr>\n",
       "      <th>3</th>\n",
       "      <td>2012-04-21 04:30:42.0000001</td>\n",
       "      <td>7.7</td>\n",
       "      <td>2012-04-21 04:30:42 UTC</td>\n",
       "      <td>-73.987130</td>\n",
       "      <td>40.733143</td>\n",
       "      <td>-73.991567</td>\n",
       "      <td>40.758092</td>\n",
       "      <td>1</td>\n",
       "    </tr>\n",
       "    <tr>\n",
       "      <th>4</th>\n",
       "      <td>2010-03-09 07:51:00.000000135</td>\n",
       "      <td>5.3</td>\n",
       "      <td>2010-03-09 07:51:00 UTC</td>\n",
       "      <td>-73.968095</td>\n",
       "      <td>40.768008</td>\n",
       "      <td>-73.956655</td>\n",
       "      <td>40.783762</td>\n",
       "      <td>1</td>\n",
       "    </tr>\n",
       "  </tbody>\n",
       "</table>\n",
       "</div>"
      ],
      "text/plain": [
       "                             key  fare_amount          pickup_datetime  \\\n",
       "0    2009-06-15 17:26:21.0000001          4.5  2009-06-15 17:26:21 UTC   \n",
       "1    2010-01-05 16:52:16.0000002         16.9  2010-01-05 16:52:16 UTC   \n",
       "2   2011-08-18 00:35:00.00000049          5.7  2011-08-18 00:35:00 UTC   \n",
       "3    2012-04-21 04:30:42.0000001          7.7  2012-04-21 04:30:42 UTC   \n",
       "4  2010-03-09 07:51:00.000000135          5.3  2010-03-09 07:51:00 UTC   \n",
       "\n",
       "   pickup_longitude  pickup_latitude  dropoff_longitude  dropoff_latitude  \\\n",
       "0        -73.844311        40.721319         -73.841610         40.712278   \n",
       "1        -74.016048        40.711303         -73.979268         40.782004   \n",
       "2        -73.982738        40.761270         -73.991242         40.750562   \n",
       "3        -73.987130        40.733143         -73.991567         40.758092   \n",
       "4        -73.968095        40.768008         -73.956655         40.783762   \n",
       "\n",
       "   passenger_count  \n",
       "0                1  \n",
       "1                1  \n",
       "2                2  \n",
       "3                1  \n",
       "4                1  "
      ]
     },
     "execution_count": 94,
     "metadata": {},
     "output_type": "execute_result"
    }
   ],
   "source": [
    "# import the dataset\n",
    "import pandas as pd\n",
    "url = \"s3://wagon-public-datasets/taxi-fare-train.csv\"\n",
    "df = pd.read_csv(url, nrows=5)\n",
    "df.head()"
   ]
  },
  {
   "cell_type": "code",
   "execution_count": 95,
   "metadata": {},
   "outputs": [
    {
     "data": {
      "text/html": [
       "<div>\n",
       "<style scoped>\n",
       "    .dataframe tbody tr th:only-of-type {\n",
       "        vertical-align: middle;\n",
       "    }\n",
       "\n",
       "    .dataframe tbody tr th {\n",
       "        vertical-align: top;\n",
       "    }\n",
       "\n",
       "    .dataframe thead th {\n",
       "        text-align: right;\n",
       "    }\n",
       "</style>\n",
       "<table border=\"1\" class=\"dataframe\">\n",
       "  <thead>\n",
       "    <tr style=\"text-align: right;\">\n",
       "      <th></th>\n",
       "      <th>key</th>\n",
       "      <th>pickup_datetime</th>\n",
       "      <th>pickup_longitude</th>\n",
       "      <th>pickup_latitude</th>\n",
       "      <th>dropoff_longitude</th>\n",
       "      <th>dropoff_latitude</th>\n",
       "      <th>passenger_count</th>\n",
       "    </tr>\n",
       "  </thead>\n",
       "  <tbody>\n",
       "    <tr>\n",
       "      <th>0</th>\n",
       "      <td>2009-06-15 17:26:21.0000001</td>\n",
       "      <td>2009-06-15 17:26:21 UTC</td>\n",
       "      <td>-73.844311</td>\n",
       "      <td>40.721319</td>\n",
       "      <td>-73.841610</td>\n",
       "      <td>40.712278</td>\n",
       "      <td>1</td>\n",
       "    </tr>\n",
       "    <tr>\n",
       "      <th>1</th>\n",
       "      <td>2010-01-05 16:52:16.0000002</td>\n",
       "      <td>2010-01-05 16:52:16 UTC</td>\n",
       "      <td>-74.016048</td>\n",
       "      <td>40.711303</td>\n",
       "      <td>-73.979268</td>\n",
       "      <td>40.782004</td>\n",
       "      <td>1</td>\n",
       "    </tr>\n",
       "    <tr>\n",
       "      <th>2</th>\n",
       "      <td>2011-08-18 00:35:00.00000049</td>\n",
       "      <td>2011-08-18 00:35:00 UTC</td>\n",
       "      <td>-73.982738</td>\n",
       "      <td>40.761270</td>\n",
       "      <td>-73.991242</td>\n",
       "      <td>40.750562</td>\n",
       "      <td>2</td>\n",
       "    </tr>\n",
       "    <tr>\n",
       "      <th>3</th>\n",
       "      <td>2012-04-21 04:30:42.0000001</td>\n",
       "      <td>2012-04-21 04:30:42 UTC</td>\n",
       "      <td>-73.987130</td>\n",
       "      <td>40.733143</td>\n",
       "      <td>-73.991567</td>\n",
       "      <td>40.758092</td>\n",
       "      <td>1</td>\n",
       "    </tr>\n",
       "    <tr>\n",
       "      <th>4</th>\n",
       "      <td>2010-03-09 07:51:00.000000135</td>\n",
       "      <td>2010-03-09 07:51:00 UTC</td>\n",
       "      <td>-73.968095</td>\n",
       "      <td>40.768008</td>\n",
       "      <td>-73.956655</td>\n",
       "      <td>40.783762</td>\n",
       "      <td>1</td>\n",
       "    </tr>\n",
       "  </tbody>\n",
       "</table>\n",
       "</div>"
      ],
      "text/plain": [
       "                             key          pickup_datetime  pickup_longitude  \\\n",
       "0    2009-06-15 17:26:21.0000001  2009-06-15 17:26:21 UTC        -73.844311   \n",
       "1    2010-01-05 16:52:16.0000002  2010-01-05 16:52:16 UTC        -74.016048   \n",
       "2   2011-08-18 00:35:00.00000049  2011-08-18 00:35:00 UTC        -73.982738   \n",
       "3    2012-04-21 04:30:42.0000001  2012-04-21 04:30:42 UTC        -73.987130   \n",
       "4  2010-03-09 07:51:00.000000135  2010-03-09 07:51:00 UTC        -73.968095   \n",
       "\n",
       "   pickup_latitude  dropoff_longitude  dropoff_latitude  passenger_count  \n",
       "0        40.721319         -73.841610         40.712278                1  \n",
       "1        40.711303         -73.979268         40.782004                1  \n",
       "2        40.761270         -73.991242         40.750562                2  \n",
       "3        40.733143         -73.991567         40.758092                1  \n",
       "4        40.768008         -73.956655         40.783762                1  "
      ]
     },
     "execution_count": 95,
     "metadata": {},
     "output_type": "execute_result"
    }
   ],
   "source": [
    "# prepare X and y\n",
    "y = df.pop(\"fare_amount\")\n",
    "X = df\n",
    "X.head()"
   ]
  },
  {
   "cell_type": "code",
   "execution_count": 96,
   "metadata": {},
   "outputs": [],
   "source": [
    "# Hold out \n",
    "from sklearn.model_selection import train_test_split\n",
    "\n",
    "X_train, X_test, y_train, y_test = train_test_split(X, y, test_size=0.2)"
   ]
  },
  {
   "cell_type": "code",
   "execution_count": 97,
   "metadata": {},
   "outputs": [
    {
     "data": {
      "text/html": [
       "<div>\n",
       "<style scoped>\n",
       "    .dataframe tbody tr th:only-of-type {\n",
       "        vertical-align: middle;\n",
       "    }\n",
       "\n",
       "    .dataframe tbody tr th {\n",
       "        vertical-align: top;\n",
       "    }\n",
       "\n",
       "    .dataframe thead th {\n",
       "        text-align: right;\n",
       "    }\n",
       "</style>\n",
       "<table border=\"1\" class=\"dataframe\">\n",
       "  <thead>\n",
       "    <tr style=\"text-align: right;\">\n",
       "      <th></th>\n",
       "      <th>key</th>\n",
       "      <th>pickup_datetime</th>\n",
       "      <th>pickup_longitude</th>\n",
       "      <th>pickup_latitude</th>\n",
       "      <th>dropoff_longitude</th>\n",
       "      <th>dropoff_latitude</th>\n",
       "      <th>passenger_count</th>\n",
       "    </tr>\n",
       "  </thead>\n",
       "  <tbody>\n",
       "    <tr>\n",
       "      <th>4</th>\n",
       "      <td>2010-03-09 07:51:00.000000135</td>\n",
       "      <td>2010-03-09 07:51:00 UTC</td>\n",
       "      <td>-73.968095</td>\n",
       "      <td>40.768008</td>\n",
       "      <td>-73.956655</td>\n",
       "      <td>40.783762</td>\n",
       "      <td>1</td>\n",
       "    </tr>\n",
       "    <tr>\n",
       "      <th>2</th>\n",
       "      <td>2011-08-18 00:35:00.00000049</td>\n",
       "      <td>2011-08-18 00:35:00 UTC</td>\n",
       "      <td>-73.982738</td>\n",
       "      <td>40.761270</td>\n",
       "      <td>-73.991242</td>\n",
       "      <td>40.750562</td>\n",
       "      <td>2</td>\n",
       "    </tr>\n",
       "    <tr>\n",
       "      <th>0</th>\n",
       "      <td>2009-06-15 17:26:21.0000001</td>\n",
       "      <td>2009-06-15 17:26:21 UTC</td>\n",
       "      <td>-73.844311</td>\n",
       "      <td>40.721319</td>\n",
       "      <td>-73.841610</td>\n",
       "      <td>40.712278</td>\n",
       "      <td>1</td>\n",
       "    </tr>\n",
       "    <tr>\n",
       "      <th>1</th>\n",
       "      <td>2010-01-05 16:52:16.0000002</td>\n",
       "      <td>2010-01-05 16:52:16 UTC</td>\n",
       "      <td>-74.016048</td>\n",
       "      <td>40.711303</td>\n",
       "      <td>-73.979268</td>\n",
       "      <td>40.782004</td>\n",
       "      <td>1</td>\n",
       "    </tr>\n",
       "  </tbody>\n",
       "</table>\n",
       "</div>"
      ],
      "text/plain": [
       "                             key          pickup_datetime  pickup_longitude  \\\n",
       "4  2010-03-09 07:51:00.000000135  2010-03-09 07:51:00 UTC        -73.968095   \n",
       "2   2011-08-18 00:35:00.00000049  2011-08-18 00:35:00 UTC        -73.982738   \n",
       "0    2009-06-15 17:26:21.0000001  2009-06-15 17:26:21 UTC        -73.844311   \n",
       "1    2010-01-05 16:52:16.0000002  2010-01-05 16:52:16 UTC        -74.016048   \n",
       "\n",
       "   pickup_latitude  dropoff_longitude  dropoff_latitude  passenger_count  \n",
       "4        40.768008         -73.956655         40.783762                1  \n",
       "2        40.761270         -73.991242         40.750562                2  \n",
       "0        40.721319         -73.841610         40.712278                1  \n",
       "1        40.711303         -73.979268         40.782004                1  "
      ]
     },
     "execution_count": 97,
     "metadata": {},
     "output_type": "execute_result"
    }
   ],
   "source": [
    "X_train.head()"
   ]
  },
  {
   "cell_type": "markdown",
   "metadata": {},
   "source": [
    "### Custom transformers"
   ]
  },
  {
   "cell_type": "markdown",
   "metadata": {},
   "source": [
    "With the Taxi Fare Prediction Challenge data, using `BaseEstimator` and `TransformerMixin`, implement:\n",
    "\n",
    "- a transformer that computes the haversine distance between the pickup and dropoff locations\n",
    "- a custom encoder that extracts the time features from `pickup_datetime`"
   ]
  },
  {
   "cell_type": "code",
   "execution_count": 98,
   "metadata": {},
   "outputs": [],
   "source": [
    "import numpy as np\n",
    "\n",
    "def haversine_vectorized(df, \n",
    "                         start_lat=\"pickup_latitude\",\n",
    "                         start_lon=\"pickup_longitude\",\n",
    "                         end_lat=\"dropoff_latitude\",\n",
    "                         end_lon=\"dropoff_longitude\"):\n",
    "    \"\"\" \n",
    "        Calculates the great circle distance between two points \n",
    "        on the earth (specified in decimal degrees).\n",
    "        Vectorized version of the haversine distance for pandas df.\n",
    "        Computes the distance in kms.\n",
    "    \"\"\"\n",
    "\n",
    "    lat_1_rad, lon_1_rad = np.radians(df[start_lat].astype(float)), np.radians(df[start_lon].astype(float))\n",
    "    lat_2_rad, lon_2_rad = np.radians(df[end_lat].astype(float)), np.radians(df[end_lon].astype(float))\n",
    "    dlon = lon_2_rad - lon_1_rad\n",
    "    dlat = lat_2_rad - lat_1_rad\n",
    "\n",
    "    a = np.sin(dlat / 2.0) ** 2 + np.cos(lat_1_rad) * np.cos(lat_2_rad) * np.sin(dlon / 2.0) ** 2\n",
    "    c = 2 * np.arcsin(np.sqrt(a))\n",
    "    return 6371 * c"
   ]
  },
  {
   "cell_type": "code",
   "execution_count": 99,
   "metadata": {},
   "outputs": [],
   "source": [
    "# create a DistanceTransformer\n",
    "from sklearn.base import BaseEstimator, TransformerMixin\n",
    "\n",
    "class DistanceTransformer(BaseEstimator, TransformerMixin):\n",
    "    \"\"\"\n",
    "        Computes the haversine distance between two GPS points.\n",
    "        Returns a copy of the DataFrame X with only one column: 'distance'.\n",
    "    \"\"\"\n",
    "\n",
    "    def __init__(self,\n",
    "                 start_lat=\"pickup_latitude\",\n",
    "                 start_lon=\"pickup_longitude\",\n",
    "                 end_lat=\"dropoff_latitude\",\n",
    "                 end_lon=\"dropoff_longitude\"):\n",
    "        self.start_lat = start_lat\n",
    "        self.start_lon = start_lon\n",
    "        self.end_lat = end_lat\n",
    "        self.end_lon = end_lon\n",
    "\n",
    "    def fit(self, X, y=None):\n",
    "        return self\n",
    "\n",
    "    def transform(self, X, y=None):\n",
    "        assert isinstance(X, pd.DataFrame)\n",
    "        X_ = X.copy()\n",
    "        X_[\"distance\"] = haversine_vectorized(\n",
    "            X_,\n",
    "            start_lat=self.start_lat,\n",
    "            start_lon=self.start_lon,\n",
    "            end_lat=self.end_lat,\n",
    "            end_lon=self.end_lon\n",
    "        )\n",
    "        return X_[['distance']]"
   ]
  },
  {
   "cell_type": "code",
   "execution_count": 100,
   "metadata": {},
   "outputs": [
    {
     "data": {
      "text/html": [
       "<div>\n",
       "<style scoped>\n",
       "    .dataframe tbody tr th:only-of-type {\n",
       "        vertical-align: middle;\n",
       "    }\n",
       "\n",
       "    .dataframe tbody tr th {\n",
       "        vertical-align: top;\n",
       "    }\n",
       "\n",
       "    .dataframe thead th {\n",
       "        text-align: right;\n",
       "    }\n",
       "</style>\n",
       "<table border=\"1\" class=\"dataframe\">\n",
       "  <thead>\n",
       "    <tr style=\"text-align: right;\">\n",
       "      <th></th>\n",
       "      <th>distance</th>\n",
       "    </tr>\n",
       "  </thead>\n",
       "  <tbody>\n",
       "    <tr>\n",
       "      <th>4</th>\n",
       "      <td>1.999157</td>\n",
       "    </tr>\n",
       "    <tr>\n",
       "      <th>2</th>\n",
       "      <td>1.389525</td>\n",
       "    </tr>\n",
       "    <tr>\n",
       "      <th>0</th>\n",
       "      <td>1.030764</td>\n",
       "    </tr>\n",
       "    <tr>\n",
       "      <th>1</th>\n",
       "      <td>8.450134</td>\n",
       "    </tr>\n",
       "  </tbody>\n",
       "</table>\n",
       "</div>"
      ],
      "text/plain": [
       "   distance\n",
       "4  1.999157\n",
       "2  1.389525\n",
       "0  1.030764\n",
       "1  8.450134"
      ]
     },
     "execution_count": 100,
     "metadata": {},
     "output_type": "execute_result"
    }
   ],
   "source": [
    "# test the DistanceTransformer\n",
    "\n",
    "dist_trans = DistanceTransformer()\n",
    "distance = dist_trans.fit_transform(X_train, y_train)\n",
    "distance.head()"
   ]
  },
  {
   "cell_type": "code",
   "execution_count": 101,
   "metadata": {},
   "outputs": [],
   "source": [
    "# create a TimeFeaturesEncoder\n",
    "class TimeFeaturesEncoder(BaseEstimator, TransformerMixin):\n",
    "    \"\"\"\n",
    "        Extracts the day of week (dow), the hour, the month and the year from a time column.\n",
    "        Returns a copy of the DataFrame X with only four columns: 'dow', 'hour', 'month', 'year'.\n",
    "    \"\"\"\n",
    "\n",
    "    def __init__(self, time_column, time_zone_name='America/New_York'):\n",
    "        self.time_column = time_column\n",
    "        self.time_zone_name = time_zone_name\n",
    "\n",
    "    def fit(self, X, y=None):\n",
    "        return self\n",
    "\n",
    "    def transform(self, X, y=None):\n",
    "        assert isinstance(X, pd.DataFrame)\n",
    "        X_ = X.copy()\n",
    "        X_.index = pd.to_datetime(X[self.time_column])\n",
    "        X_.index = X_.index.tz_convert(self.time_zone_name)\n",
    "        X_[\"dow\"] = X_.index.weekday\n",
    "        X_[\"hour\"] = X_.index.hour\n",
    "        X_[\"month\"] = X_.index.month\n",
    "        X_[\"year\"] = X_.index.year\n",
    "        return X_[['dow', 'hour', 'month', 'year']]"
   ]
  },
  {
   "cell_type": "code",
   "execution_count": 102,
   "metadata": {},
   "outputs": [
    {
     "data": {
      "text/html": [
       "<div>\n",
       "<style scoped>\n",
       "    .dataframe tbody tr th:only-of-type {\n",
       "        vertical-align: middle;\n",
       "    }\n",
       "\n",
       "    .dataframe tbody tr th {\n",
       "        vertical-align: top;\n",
       "    }\n",
       "\n",
       "    .dataframe thead th {\n",
       "        text-align: right;\n",
       "    }\n",
       "</style>\n",
       "<table border=\"1\" class=\"dataframe\">\n",
       "  <thead>\n",
       "    <tr style=\"text-align: right;\">\n",
       "      <th></th>\n",
       "      <th>dow</th>\n",
       "      <th>hour</th>\n",
       "      <th>month</th>\n",
       "      <th>year</th>\n",
       "    </tr>\n",
       "    <tr>\n",
       "      <th>pickup_datetime</th>\n",
       "      <th></th>\n",
       "      <th></th>\n",
       "      <th></th>\n",
       "      <th></th>\n",
       "    </tr>\n",
       "  </thead>\n",
       "  <tbody>\n",
       "    <tr>\n",
       "      <th>2010-03-09 02:51:00-05:00</th>\n",
       "      <td>1</td>\n",
       "      <td>2</td>\n",
       "      <td>3</td>\n",
       "      <td>2010</td>\n",
       "    </tr>\n",
       "    <tr>\n",
       "      <th>2011-08-17 20:35:00-04:00</th>\n",
       "      <td>2</td>\n",
       "      <td>20</td>\n",
       "      <td>8</td>\n",
       "      <td>2011</td>\n",
       "    </tr>\n",
       "    <tr>\n",
       "      <th>2009-06-15 13:26:21-04:00</th>\n",
       "      <td>0</td>\n",
       "      <td>13</td>\n",
       "      <td>6</td>\n",
       "      <td>2009</td>\n",
       "    </tr>\n",
       "    <tr>\n",
       "      <th>2010-01-05 11:52:16-05:00</th>\n",
       "      <td>1</td>\n",
       "      <td>11</td>\n",
       "      <td>1</td>\n",
       "      <td>2010</td>\n",
       "    </tr>\n",
       "  </tbody>\n",
       "</table>\n",
       "</div>"
      ],
      "text/plain": [
       "                           dow  hour  month  year\n",
       "pickup_datetime                                  \n",
       "2010-03-09 02:51:00-05:00    1     2      3  2010\n",
       "2011-08-17 20:35:00-04:00    2    20      8  2011\n",
       "2009-06-15 13:26:21-04:00    0    13      6  2009\n",
       "2010-01-05 11:52:16-05:00    1    11      1  2010"
      ]
     },
     "execution_count": 102,
     "metadata": {},
     "output_type": "execute_result"
    }
   ],
   "source": [
    "# test the TimeFeaturesEncoder\n",
    "\n",
    "time_enc = TimeFeaturesEncoder('pickup_datetime')\n",
    "time_features = time_enc.fit_transform(X_train, y_train)\n",
    "time_features.head()"
   ]
  },
  {
   "cell_type": "markdown",
   "metadata": {},
   "source": [
    "###  Prepocessing pipeline"
   ]
  },
  {
   "cell_type": "code",
   "execution_count": 103,
   "metadata": {},
   "outputs": [],
   "source": [
    "# visualizing pipelines in HTML\n",
    "from sklearn import set_config; set_config(display='diagram')"
   ]
  },
  {
   "cell_type": "markdown",
   "metadata": {},
   "source": [
    "#### Distance pipeline\n",
    "\n",
    "Create a pipeline for distances:\n",
    "- convert the pickup and dropoff coordinates into distances with the DistanceTransformer\n",
    "- standardize these distances"
   ]
  },
  {
   "cell_type": "code",
   "execution_count": 104,
   "metadata": {},
   "outputs": [
    {
     "data": {
      "text/html": [
       "<style>#sk-09ff9f78-9aa3-4e0e-8803-a4f12bed6b78 {color: black;background-color: white;}#sk-09ff9f78-9aa3-4e0e-8803-a4f12bed6b78 pre{padding: 0;}#sk-09ff9f78-9aa3-4e0e-8803-a4f12bed6b78 div.sk-toggleable {background-color: white;}#sk-09ff9f78-9aa3-4e0e-8803-a4f12bed6b78 label.sk-toggleable__label {cursor: pointer;display: block;width: 100%;margin-bottom: 0;padding: 0.3em;box-sizing: border-box;text-align: center;}#sk-09ff9f78-9aa3-4e0e-8803-a4f12bed6b78 label.sk-toggleable__label-arrow:before {content: \"▸\";float: left;margin-right: 0.25em;color: #696969;}#sk-09ff9f78-9aa3-4e0e-8803-a4f12bed6b78 label.sk-toggleable__label-arrow:hover:before {color: black;}#sk-09ff9f78-9aa3-4e0e-8803-a4f12bed6b78 div.sk-estimator:hover label.sk-toggleable__label-arrow:before {color: black;}#sk-09ff9f78-9aa3-4e0e-8803-a4f12bed6b78 div.sk-toggleable__content {max-height: 0;max-width: 0;overflow: hidden;text-align: left;background-color: #f0f8ff;}#sk-09ff9f78-9aa3-4e0e-8803-a4f12bed6b78 div.sk-toggleable__content pre {margin: 0.2em;color: black;border-radius: 0.25em;background-color: #f0f8ff;}#sk-09ff9f78-9aa3-4e0e-8803-a4f12bed6b78 input.sk-toggleable__control:checked~div.sk-toggleable__content {max-height: 200px;max-width: 100%;overflow: auto;}#sk-09ff9f78-9aa3-4e0e-8803-a4f12bed6b78 input.sk-toggleable__control:checked~label.sk-toggleable__label-arrow:before {content: \"▾\";}#sk-09ff9f78-9aa3-4e0e-8803-a4f12bed6b78 div.sk-estimator input.sk-toggleable__control:checked~label.sk-toggleable__label {background-color: #d4ebff;}#sk-09ff9f78-9aa3-4e0e-8803-a4f12bed6b78 div.sk-label input.sk-toggleable__control:checked~label.sk-toggleable__label {background-color: #d4ebff;}#sk-09ff9f78-9aa3-4e0e-8803-a4f12bed6b78 input.sk-hidden--visually {border: 0;clip: rect(1px 1px 1px 1px);clip: rect(1px, 1px, 1px, 1px);height: 1px;margin: -1px;overflow: hidden;padding: 0;position: absolute;width: 1px;}#sk-09ff9f78-9aa3-4e0e-8803-a4f12bed6b78 div.sk-estimator {font-family: monospace;background-color: #f0f8ff;border: 1px dotted black;border-radius: 0.25em;box-sizing: border-box;margin-bottom: 0.5em;}#sk-09ff9f78-9aa3-4e0e-8803-a4f12bed6b78 div.sk-estimator:hover {background-color: #d4ebff;}#sk-09ff9f78-9aa3-4e0e-8803-a4f12bed6b78 div.sk-parallel-item::after {content: \"\";width: 100%;border-bottom: 1px solid gray;flex-grow: 1;}#sk-09ff9f78-9aa3-4e0e-8803-a4f12bed6b78 div.sk-label:hover label.sk-toggleable__label {background-color: #d4ebff;}#sk-09ff9f78-9aa3-4e0e-8803-a4f12bed6b78 div.sk-serial::before {content: \"\";position: absolute;border-left: 1px solid gray;box-sizing: border-box;top: 2em;bottom: 0;left: 50%;}#sk-09ff9f78-9aa3-4e0e-8803-a4f12bed6b78 div.sk-serial {display: flex;flex-direction: column;align-items: center;background-color: white;padding-right: 0.2em;padding-left: 0.2em;}#sk-09ff9f78-9aa3-4e0e-8803-a4f12bed6b78 div.sk-item {z-index: 1;}#sk-09ff9f78-9aa3-4e0e-8803-a4f12bed6b78 div.sk-parallel {display: flex;align-items: stretch;justify-content: center;background-color: white;}#sk-09ff9f78-9aa3-4e0e-8803-a4f12bed6b78 div.sk-parallel::before {content: \"\";position: absolute;border-left: 1px solid gray;box-sizing: border-box;top: 2em;bottom: 0;left: 50%;}#sk-09ff9f78-9aa3-4e0e-8803-a4f12bed6b78 div.sk-parallel-item {display: flex;flex-direction: column;position: relative;background-color: white;}#sk-09ff9f78-9aa3-4e0e-8803-a4f12bed6b78 div.sk-parallel-item:first-child::after {align-self: flex-end;width: 50%;}#sk-09ff9f78-9aa3-4e0e-8803-a4f12bed6b78 div.sk-parallel-item:last-child::after {align-self: flex-start;width: 50%;}#sk-09ff9f78-9aa3-4e0e-8803-a4f12bed6b78 div.sk-parallel-item:only-child::after {width: 0;}#sk-09ff9f78-9aa3-4e0e-8803-a4f12bed6b78 div.sk-dashed-wrapped {border: 1px dashed gray;margin: 0 0.4em 0.5em 0.4em;box-sizing: border-box;padding-bottom: 0.4em;background-color: white;position: relative;}#sk-09ff9f78-9aa3-4e0e-8803-a4f12bed6b78 div.sk-label label {font-family: monospace;font-weight: bold;background-color: white;display: inline-block;line-height: 1.2em;}#sk-09ff9f78-9aa3-4e0e-8803-a4f12bed6b78 div.sk-label-container {position: relative;z-index: 2;text-align: center;}#sk-09ff9f78-9aa3-4e0e-8803-a4f12bed6b78 div.sk-container {/* jupyter's `normalize.less` sets `[hidden] { display: none; }` but bootstrap.min.css set `[hidden] { display: none !important; }` so we also need the `!important` here to be able to override the default hidden behavior on the sphinx rendered scikit-learn.org. See: https://github.com/scikit-learn/scikit-learn/issues/21755 */display: inline-block !important;position: relative;}#sk-09ff9f78-9aa3-4e0e-8803-a4f12bed6b78 div.sk-text-repr-fallback {display: none;}</style><div id=\"sk-09ff9f78-9aa3-4e0e-8803-a4f12bed6b78\" class=\"sk-top-container\"><div class=\"sk-text-repr-fallback\"><pre>Pipeline(steps=[(&#x27;dist_trans&#x27;, DistanceTransformer()),\n",
       "                (&#x27;stdscaler&#x27;, StandardScaler())])</pre><b>Please rerun this cell to show the HTML repr or trust the notebook.</b></div><div class=\"sk-container\" hidden><div class=\"sk-item sk-dashed-wrapped\"><div class=\"sk-label-container\"><div class=\"sk-label sk-toggleable\"><input class=\"sk-toggleable__control sk-hidden--visually\" id=\"ed9ce6c4-c3e0-4dc2-8c77-f40a3c81922c\" type=\"checkbox\" ><label for=\"ed9ce6c4-c3e0-4dc2-8c77-f40a3c81922c\" class=\"sk-toggleable__label sk-toggleable__label-arrow\">Pipeline</label><div class=\"sk-toggleable__content\"><pre>Pipeline(steps=[(&#x27;dist_trans&#x27;, DistanceTransformer()),\n",
       "                (&#x27;stdscaler&#x27;, StandardScaler())])</pre></div></div></div><div class=\"sk-serial\"><div class=\"sk-item\"><div class=\"sk-estimator sk-toggleable\"><input class=\"sk-toggleable__control sk-hidden--visually\" id=\"7e62a869-4e4c-4fe8-b84a-da549d60bb64\" type=\"checkbox\" ><label for=\"7e62a869-4e4c-4fe8-b84a-da549d60bb64\" class=\"sk-toggleable__label sk-toggleable__label-arrow\">DistanceTransformer</label><div class=\"sk-toggleable__content\"><pre>DistanceTransformer()</pre></div></div></div><div class=\"sk-item\"><div class=\"sk-estimator sk-toggleable\"><input class=\"sk-toggleable__control sk-hidden--visually\" id=\"5c7680a2-f317-4303-8ee1-9f691d4d1bfd\" type=\"checkbox\" ><label for=\"5c7680a2-f317-4303-8ee1-9f691d4d1bfd\" class=\"sk-toggleable__label sk-toggleable__label-arrow\">StandardScaler</label><div class=\"sk-toggleable__content\"><pre>StandardScaler()</pre></div></div></div></div></div></div></div>"
      ],
      "text/plain": [
       "Pipeline(steps=[('dist_trans', DistanceTransformer()),\n",
       "                ('stdscaler', StandardScaler())])"
      ]
     },
     "execution_count": 104,
     "metadata": {},
     "output_type": "execute_result"
    }
   ],
   "source": [
    "from sklearn.pipeline import Pipeline, make_pipeline\n",
    "from sklearn.preprocessing import StandardScaler\n",
    "\n",
    "# create distance pipeline\n",
    "dist_pipe = Pipeline([\n",
    "    ('dist_trans', DistanceTransformer()),\n",
    "    ('stdscaler', StandardScaler())\n",
    "])\n",
    "\n",
    "# display distance pipeline\n",
    "\n",
    "\n",
    "dist_pipe"
   ]
  },
  {
   "cell_type": "markdown",
   "metadata": {},
   "source": [
    "#### Time features pipeline\n",
    "\n",
    "Create a pipeline for time features\n",
    "- extract time features from pickup datetime with the TimeFeaturesEncoder\n",
    "- encode these categorical time features with the OneHotEncoder"
   ]
  },
  {
   "cell_type": "code",
   "execution_count": 105,
   "metadata": {},
   "outputs": [
    {
     "data": {
      "text/html": [
       "<style>#sk-cb1a3122-060c-4335-a082-b46f0badd517 {color: black;background-color: white;}#sk-cb1a3122-060c-4335-a082-b46f0badd517 pre{padding: 0;}#sk-cb1a3122-060c-4335-a082-b46f0badd517 div.sk-toggleable {background-color: white;}#sk-cb1a3122-060c-4335-a082-b46f0badd517 label.sk-toggleable__label {cursor: pointer;display: block;width: 100%;margin-bottom: 0;padding: 0.3em;box-sizing: border-box;text-align: center;}#sk-cb1a3122-060c-4335-a082-b46f0badd517 label.sk-toggleable__label-arrow:before {content: \"▸\";float: left;margin-right: 0.25em;color: #696969;}#sk-cb1a3122-060c-4335-a082-b46f0badd517 label.sk-toggleable__label-arrow:hover:before {color: black;}#sk-cb1a3122-060c-4335-a082-b46f0badd517 div.sk-estimator:hover label.sk-toggleable__label-arrow:before {color: black;}#sk-cb1a3122-060c-4335-a082-b46f0badd517 div.sk-toggleable__content {max-height: 0;max-width: 0;overflow: hidden;text-align: left;background-color: #f0f8ff;}#sk-cb1a3122-060c-4335-a082-b46f0badd517 div.sk-toggleable__content pre {margin: 0.2em;color: black;border-radius: 0.25em;background-color: #f0f8ff;}#sk-cb1a3122-060c-4335-a082-b46f0badd517 input.sk-toggleable__control:checked~div.sk-toggleable__content {max-height: 200px;max-width: 100%;overflow: auto;}#sk-cb1a3122-060c-4335-a082-b46f0badd517 input.sk-toggleable__control:checked~label.sk-toggleable__label-arrow:before {content: \"▾\";}#sk-cb1a3122-060c-4335-a082-b46f0badd517 div.sk-estimator input.sk-toggleable__control:checked~label.sk-toggleable__label {background-color: #d4ebff;}#sk-cb1a3122-060c-4335-a082-b46f0badd517 div.sk-label input.sk-toggleable__control:checked~label.sk-toggleable__label {background-color: #d4ebff;}#sk-cb1a3122-060c-4335-a082-b46f0badd517 input.sk-hidden--visually {border: 0;clip: rect(1px 1px 1px 1px);clip: rect(1px, 1px, 1px, 1px);height: 1px;margin: -1px;overflow: hidden;padding: 0;position: absolute;width: 1px;}#sk-cb1a3122-060c-4335-a082-b46f0badd517 div.sk-estimator {font-family: monospace;background-color: #f0f8ff;border: 1px dotted black;border-radius: 0.25em;box-sizing: border-box;margin-bottom: 0.5em;}#sk-cb1a3122-060c-4335-a082-b46f0badd517 div.sk-estimator:hover {background-color: #d4ebff;}#sk-cb1a3122-060c-4335-a082-b46f0badd517 div.sk-parallel-item::after {content: \"\";width: 100%;border-bottom: 1px solid gray;flex-grow: 1;}#sk-cb1a3122-060c-4335-a082-b46f0badd517 div.sk-label:hover label.sk-toggleable__label {background-color: #d4ebff;}#sk-cb1a3122-060c-4335-a082-b46f0badd517 div.sk-serial::before {content: \"\";position: absolute;border-left: 1px solid gray;box-sizing: border-box;top: 2em;bottom: 0;left: 50%;}#sk-cb1a3122-060c-4335-a082-b46f0badd517 div.sk-serial {display: flex;flex-direction: column;align-items: center;background-color: white;padding-right: 0.2em;padding-left: 0.2em;}#sk-cb1a3122-060c-4335-a082-b46f0badd517 div.sk-item {z-index: 1;}#sk-cb1a3122-060c-4335-a082-b46f0badd517 div.sk-parallel {display: flex;align-items: stretch;justify-content: center;background-color: white;}#sk-cb1a3122-060c-4335-a082-b46f0badd517 div.sk-parallel::before {content: \"\";position: absolute;border-left: 1px solid gray;box-sizing: border-box;top: 2em;bottom: 0;left: 50%;}#sk-cb1a3122-060c-4335-a082-b46f0badd517 div.sk-parallel-item {display: flex;flex-direction: column;position: relative;background-color: white;}#sk-cb1a3122-060c-4335-a082-b46f0badd517 div.sk-parallel-item:first-child::after {align-self: flex-end;width: 50%;}#sk-cb1a3122-060c-4335-a082-b46f0badd517 div.sk-parallel-item:last-child::after {align-self: flex-start;width: 50%;}#sk-cb1a3122-060c-4335-a082-b46f0badd517 div.sk-parallel-item:only-child::after {width: 0;}#sk-cb1a3122-060c-4335-a082-b46f0badd517 div.sk-dashed-wrapped {border: 1px dashed gray;margin: 0 0.4em 0.5em 0.4em;box-sizing: border-box;padding-bottom: 0.4em;background-color: white;position: relative;}#sk-cb1a3122-060c-4335-a082-b46f0badd517 div.sk-label label {font-family: monospace;font-weight: bold;background-color: white;display: inline-block;line-height: 1.2em;}#sk-cb1a3122-060c-4335-a082-b46f0badd517 div.sk-label-container {position: relative;z-index: 2;text-align: center;}#sk-cb1a3122-060c-4335-a082-b46f0badd517 div.sk-container {/* jupyter's `normalize.less` sets `[hidden] { display: none; }` but bootstrap.min.css set `[hidden] { display: none !important; }` so we also need the `!important` here to be able to override the default hidden behavior on the sphinx rendered scikit-learn.org. See: https://github.com/scikit-learn/scikit-learn/issues/21755 */display: inline-block !important;position: relative;}#sk-cb1a3122-060c-4335-a082-b46f0badd517 div.sk-text-repr-fallback {display: none;}</style><div id=\"sk-cb1a3122-060c-4335-a082-b46f0badd517\" class=\"sk-top-container\"><div class=\"sk-text-repr-fallback\"><pre>Pipeline(steps=[(&#x27;time_enc&#x27;,\n",
       "                 TimeFeaturesEncoder(time_column=&#x27;pickup_datetime&#x27;)),\n",
       "                (&#x27;ohe&#x27;, OneHotEncoder(handle_unknown=&#x27;ignore&#x27;))])</pre><b>Please rerun this cell to show the HTML repr or trust the notebook.</b></div><div class=\"sk-container\" hidden><div class=\"sk-item sk-dashed-wrapped\"><div class=\"sk-label-container\"><div class=\"sk-label sk-toggleable\"><input class=\"sk-toggleable__control sk-hidden--visually\" id=\"4bbbca93-3f43-4c97-a1d3-12e9f8e3ec1f\" type=\"checkbox\" ><label for=\"4bbbca93-3f43-4c97-a1d3-12e9f8e3ec1f\" class=\"sk-toggleable__label sk-toggleable__label-arrow\">Pipeline</label><div class=\"sk-toggleable__content\"><pre>Pipeline(steps=[(&#x27;time_enc&#x27;,\n",
       "                 TimeFeaturesEncoder(time_column=&#x27;pickup_datetime&#x27;)),\n",
       "                (&#x27;ohe&#x27;, OneHotEncoder(handle_unknown=&#x27;ignore&#x27;))])</pre></div></div></div><div class=\"sk-serial\"><div class=\"sk-item\"><div class=\"sk-estimator sk-toggleable\"><input class=\"sk-toggleable__control sk-hidden--visually\" id=\"851e3987-7ebf-4174-915c-f82e3f33154d\" type=\"checkbox\" ><label for=\"851e3987-7ebf-4174-915c-f82e3f33154d\" class=\"sk-toggleable__label sk-toggleable__label-arrow\">TimeFeaturesEncoder</label><div class=\"sk-toggleable__content\"><pre>TimeFeaturesEncoder(time_column=&#x27;pickup_datetime&#x27;)</pre></div></div></div><div class=\"sk-item\"><div class=\"sk-estimator sk-toggleable\"><input class=\"sk-toggleable__control sk-hidden--visually\" id=\"357915f6-2fb5-41a1-8af1-92c88640bad4\" type=\"checkbox\" ><label for=\"357915f6-2fb5-41a1-8af1-92c88640bad4\" class=\"sk-toggleable__label sk-toggleable__label-arrow\">OneHotEncoder</label><div class=\"sk-toggleable__content\"><pre>OneHotEncoder(handle_unknown=&#x27;ignore&#x27;)</pre></div></div></div></div></div></div></div>"
      ],
      "text/plain": [
       "Pipeline(steps=[('time_enc',\n",
       "                 TimeFeaturesEncoder(time_column='pickup_datetime')),\n",
       "                ('ohe', OneHotEncoder(handle_unknown='ignore'))])"
      ]
     },
     "execution_count": 105,
     "metadata": {},
     "output_type": "execute_result"
    }
   ],
   "source": [
    "from sklearn.preprocessing import OneHotEncoder\n",
    "\n",
    "# create time pipeline\n",
    "time_pipe = Pipeline([\n",
    "    ('time_enc', TimeFeaturesEncoder('pickup_datetime')),\n",
    "    ('ohe', OneHotEncoder(handle_unknown='ignore'))\n",
    "])\n",
    "\n",
    "# display time pipeline\n",
    "time_pipe"
   ]
  },
  {
   "cell_type": "markdown",
   "metadata": {},
   "source": [
    "#### Preprocessing pipeline\n",
    "\n",
    "Wrap up the distance pipeline and the time pipeline into a preprocessing pipeline."
   ]
  },
  {
   "cell_type": "code",
   "execution_count": 106,
   "metadata": {},
   "outputs": [
    {
     "data": {
      "text/html": [
       "<style>#sk-b9ea4eca-4885-4919-b6ed-8b592e095d91 {color: black;background-color: white;}#sk-b9ea4eca-4885-4919-b6ed-8b592e095d91 pre{padding: 0;}#sk-b9ea4eca-4885-4919-b6ed-8b592e095d91 div.sk-toggleable {background-color: white;}#sk-b9ea4eca-4885-4919-b6ed-8b592e095d91 label.sk-toggleable__label {cursor: pointer;display: block;width: 100%;margin-bottom: 0;padding: 0.3em;box-sizing: border-box;text-align: center;}#sk-b9ea4eca-4885-4919-b6ed-8b592e095d91 label.sk-toggleable__label-arrow:before {content: \"▸\";float: left;margin-right: 0.25em;color: #696969;}#sk-b9ea4eca-4885-4919-b6ed-8b592e095d91 label.sk-toggleable__label-arrow:hover:before {color: black;}#sk-b9ea4eca-4885-4919-b6ed-8b592e095d91 div.sk-estimator:hover label.sk-toggleable__label-arrow:before {color: black;}#sk-b9ea4eca-4885-4919-b6ed-8b592e095d91 div.sk-toggleable__content {max-height: 0;max-width: 0;overflow: hidden;text-align: left;background-color: #f0f8ff;}#sk-b9ea4eca-4885-4919-b6ed-8b592e095d91 div.sk-toggleable__content pre {margin: 0.2em;color: black;border-radius: 0.25em;background-color: #f0f8ff;}#sk-b9ea4eca-4885-4919-b6ed-8b592e095d91 input.sk-toggleable__control:checked~div.sk-toggleable__content {max-height: 200px;max-width: 100%;overflow: auto;}#sk-b9ea4eca-4885-4919-b6ed-8b592e095d91 input.sk-toggleable__control:checked~label.sk-toggleable__label-arrow:before {content: \"▾\";}#sk-b9ea4eca-4885-4919-b6ed-8b592e095d91 div.sk-estimator input.sk-toggleable__control:checked~label.sk-toggleable__label {background-color: #d4ebff;}#sk-b9ea4eca-4885-4919-b6ed-8b592e095d91 div.sk-label input.sk-toggleable__control:checked~label.sk-toggleable__label {background-color: #d4ebff;}#sk-b9ea4eca-4885-4919-b6ed-8b592e095d91 input.sk-hidden--visually {border: 0;clip: rect(1px 1px 1px 1px);clip: rect(1px, 1px, 1px, 1px);height: 1px;margin: -1px;overflow: hidden;padding: 0;position: absolute;width: 1px;}#sk-b9ea4eca-4885-4919-b6ed-8b592e095d91 div.sk-estimator {font-family: monospace;background-color: #f0f8ff;border: 1px dotted black;border-radius: 0.25em;box-sizing: border-box;margin-bottom: 0.5em;}#sk-b9ea4eca-4885-4919-b6ed-8b592e095d91 div.sk-estimator:hover {background-color: #d4ebff;}#sk-b9ea4eca-4885-4919-b6ed-8b592e095d91 div.sk-parallel-item::after {content: \"\";width: 100%;border-bottom: 1px solid gray;flex-grow: 1;}#sk-b9ea4eca-4885-4919-b6ed-8b592e095d91 div.sk-label:hover label.sk-toggleable__label {background-color: #d4ebff;}#sk-b9ea4eca-4885-4919-b6ed-8b592e095d91 div.sk-serial::before {content: \"\";position: absolute;border-left: 1px solid gray;box-sizing: border-box;top: 2em;bottom: 0;left: 50%;}#sk-b9ea4eca-4885-4919-b6ed-8b592e095d91 div.sk-serial {display: flex;flex-direction: column;align-items: center;background-color: white;padding-right: 0.2em;padding-left: 0.2em;}#sk-b9ea4eca-4885-4919-b6ed-8b592e095d91 div.sk-item {z-index: 1;}#sk-b9ea4eca-4885-4919-b6ed-8b592e095d91 div.sk-parallel {display: flex;align-items: stretch;justify-content: center;background-color: white;}#sk-b9ea4eca-4885-4919-b6ed-8b592e095d91 div.sk-parallel::before {content: \"\";position: absolute;border-left: 1px solid gray;box-sizing: border-box;top: 2em;bottom: 0;left: 50%;}#sk-b9ea4eca-4885-4919-b6ed-8b592e095d91 div.sk-parallel-item {display: flex;flex-direction: column;position: relative;background-color: white;}#sk-b9ea4eca-4885-4919-b6ed-8b592e095d91 div.sk-parallel-item:first-child::after {align-self: flex-end;width: 50%;}#sk-b9ea4eca-4885-4919-b6ed-8b592e095d91 div.sk-parallel-item:last-child::after {align-self: flex-start;width: 50%;}#sk-b9ea4eca-4885-4919-b6ed-8b592e095d91 div.sk-parallel-item:only-child::after {width: 0;}#sk-b9ea4eca-4885-4919-b6ed-8b592e095d91 div.sk-dashed-wrapped {border: 1px dashed gray;margin: 0 0.4em 0.5em 0.4em;box-sizing: border-box;padding-bottom: 0.4em;background-color: white;position: relative;}#sk-b9ea4eca-4885-4919-b6ed-8b592e095d91 div.sk-label label {font-family: monospace;font-weight: bold;background-color: white;display: inline-block;line-height: 1.2em;}#sk-b9ea4eca-4885-4919-b6ed-8b592e095d91 div.sk-label-container {position: relative;z-index: 2;text-align: center;}#sk-b9ea4eca-4885-4919-b6ed-8b592e095d91 div.sk-container {/* jupyter's `normalize.less` sets `[hidden] { display: none; }` but bootstrap.min.css set `[hidden] { display: none !important; }` so we also need the `!important` here to be able to override the default hidden behavior on the sphinx rendered scikit-learn.org. See: https://github.com/scikit-learn/scikit-learn/issues/21755 */display: inline-block !important;position: relative;}#sk-b9ea4eca-4885-4919-b6ed-8b592e095d91 div.sk-text-repr-fallback {display: none;}</style><div id=\"sk-b9ea4eca-4885-4919-b6ed-8b592e095d91\" class=\"sk-top-container\"><div class=\"sk-text-repr-fallback\"><pre>ColumnTransformer(transformers=[(&#x27;distance&#x27;,\n",
       "                                 Pipeline(steps=[(&#x27;dist_trans&#x27;,\n",
       "                                                  DistanceTransformer()),\n",
       "                                                 (&#x27;stdscaler&#x27;,\n",
       "                                                  StandardScaler())]),\n",
       "                                 [&#x27;pickup_latitude&#x27;, &#x27;pickup_longitude&#x27;,\n",
       "                                  &#x27;dropoff_latitude&#x27;, &#x27;dropoff_longitude&#x27;]),\n",
       "                                (&#x27;time&#x27;,\n",
       "                                 Pipeline(steps=[(&#x27;time_enc&#x27;,\n",
       "                                                  TimeFeaturesEncoder(time_column=&#x27;pickup_datetime&#x27;)),\n",
       "                                                 (&#x27;ohe&#x27;,\n",
       "                                                  OneHotEncoder(handle_unknown=&#x27;ignore&#x27;))]),\n",
       "                                 [&#x27;pickup_datetime&#x27;])])</pre><b>Please rerun this cell to show the HTML repr or trust the notebook.</b></div><div class=\"sk-container\" hidden><div class=\"sk-item sk-dashed-wrapped\"><div class=\"sk-label-container\"><div class=\"sk-label sk-toggleable\"><input class=\"sk-toggleable__control sk-hidden--visually\" id=\"3349e37a-3b5c-41fc-bd95-1a7a849232ae\" type=\"checkbox\" ><label for=\"3349e37a-3b5c-41fc-bd95-1a7a849232ae\" class=\"sk-toggleable__label sk-toggleable__label-arrow\">ColumnTransformer</label><div class=\"sk-toggleable__content\"><pre>ColumnTransformer(transformers=[(&#x27;distance&#x27;,\n",
       "                                 Pipeline(steps=[(&#x27;dist_trans&#x27;,\n",
       "                                                  DistanceTransformer()),\n",
       "                                                 (&#x27;stdscaler&#x27;,\n",
       "                                                  StandardScaler())]),\n",
       "                                 [&#x27;pickup_latitude&#x27;, &#x27;pickup_longitude&#x27;,\n",
       "                                  &#x27;dropoff_latitude&#x27;, &#x27;dropoff_longitude&#x27;]),\n",
       "                                (&#x27;time&#x27;,\n",
       "                                 Pipeline(steps=[(&#x27;time_enc&#x27;,\n",
       "                                                  TimeFeaturesEncoder(time_column=&#x27;pickup_datetime&#x27;)),\n",
       "                                                 (&#x27;ohe&#x27;,\n",
       "                                                  OneHotEncoder(handle_unknown=&#x27;ignore&#x27;))]),\n",
       "                                 [&#x27;pickup_datetime&#x27;])])</pre></div></div></div><div class=\"sk-parallel\"><div class=\"sk-parallel-item\"><div class=\"sk-item\"><div class=\"sk-label-container\"><div class=\"sk-label sk-toggleable\"><input class=\"sk-toggleable__control sk-hidden--visually\" id=\"bdff263c-0d99-47e5-b8fb-4db0839799eb\" type=\"checkbox\" ><label for=\"bdff263c-0d99-47e5-b8fb-4db0839799eb\" class=\"sk-toggleable__label sk-toggleable__label-arrow\">distance</label><div class=\"sk-toggleable__content\"><pre>[&#x27;pickup_latitude&#x27;, &#x27;pickup_longitude&#x27;, &#x27;dropoff_latitude&#x27;, &#x27;dropoff_longitude&#x27;]</pre></div></div></div><div class=\"sk-serial\"><div class=\"sk-item\"><div class=\"sk-serial\"><div class=\"sk-item\"><div class=\"sk-estimator sk-toggleable\"><input class=\"sk-toggleable__control sk-hidden--visually\" id=\"a10c46c1-c4dd-4a3d-8ba7-75ec7e449834\" type=\"checkbox\" ><label for=\"a10c46c1-c4dd-4a3d-8ba7-75ec7e449834\" class=\"sk-toggleable__label sk-toggleable__label-arrow\">DistanceTransformer</label><div class=\"sk-toggleable__content\"><pre>DistanceTransformer()</pre></div></div></div><div class=\"sk-item\"><div class=\"sk-estimator sk-toggleable\"><input class=\"sk-toggleable__control sk-hidden--visually\" id=\"770719da-fbd5-47d5-bdf2-447a23754c78\" type=\"checkbox\" ><label for=\"770719da-fbd5-47d5-bdf2-447a23754c78\" class=\"sk-toggleable__label sk-toggleable__label-arrow\">StandardScaler</label><div class=\"sk-toggleable__content\"><pre>StandardScaler()</pre></div></div></div></div></div></div></div></div><div class=\"sk-parallel-item\"><div class=\"sk-item\"><div class=\"sk-label-container\"><div class=\"sk-label sk-toggleable\"><input class=\"sk-toggleable__control sk-hidden--visually\" id=\"31862484-ec52-4cc6-90dc-699e9bc44ea6\" type=\"checkbox\" ><label for=\"31862484-ec52-4cc6-90dc-699e9bc44ea6\" class=\"sk-toggleable__label sk-toggleable__label-arrow\">time</label><div class=\"sk-toggleable__content\"><pre>[&#x27;pickup_datetime&#x27;]</pre></div></div></div><div class=\"sk-serial\"><div class=\"sk-item\"><div class=\"sk-serial\"><div class=\"sk-item\"><div class=\"sk-estimator sk-toggleable\"><input class=\"sk-toggleable__control sk-hidden--visually\" id=\"cbfd45e3-f0d0-40f9-b0c7-2dee005ec94e\" type=\"checkbox\" ><label for=\"cbfd45e3-f0d0-40f9-b0c7-2dee005ec94e\" class=\"sk-toggleable__label sk-toggleable__label-arrow\">TimeFeaturesEncoder</label><div class=\"sk-toggleable__content\"><pre>TimeFeaturesEncoder(time_column=&#x27;pickup_datetime&#x27;)</pre></div></div></div><div class=\"sk-item\"><div class=\"sk-estimator sk-toggleable\"><input class=\"sk-toggleable__control sk-hidden--visually\" id=\"0cbe63d9-2216-4485-bd32-05c909ab38a4\" type=\"checkbox\" ><label for=\"0cbe63d9-2216-4485-bd32-05c909ab38a4\" class=\"sk-toggleable__label sk-toggleable__label-arrow\">OneHotEncoder</label><div class=\"sk-toggleable__content\"><pre>OneHotEncoder(handle_unknown=&#x27;ignore&#x27;)</pre></div></div></div></div></div></div></div></div></div></div></div></div>"
      ],
      "text/plain": [
       "ColumnTransformer(transformers=[('distance',\n",
       "                                 Pipeline(steps=[('dist_trans',\n",
       "                                                  DistanceTransformer()),\n",
       "                                                 ('stdscaler',\n",
       "                                                  StandardScaler())]),\n",
       "                                 ['pickup_latitude', 'pickup_longitude',\n",
       "                                  'dropoff_latitude', 'dropoff_longitude']),\n",
       "                                ('time',\n",
       "                                 Pipeline(steps=[('time_enc',\n",
       "                                                  TimeFeaturesEncoder(time_column='pickup_datetime')),\n",
       "                                                 ('ohe',\n",
       "                                                  OneHotEncoder(handle_unknown='ignore'))]),\n",
       "                                 ['pickup_datetime'])])"
      ]
     },
     "execution_count": 106,
     "metadata": {},
     "output_type": "execute_result"
    }
   ],
   "source": [
    "from sklearn.compose import ColumnTransformer, make_column_transformer\n",
    "\n",
    "# create preprocessing pipeline\n",
    "preproc_pipe = ColumnTransformer([\n",
    "    ('distance', dist_pipe, [\"pickup_latitude\", \"pickup_longitude\", 'dropoff_latitude', 'dropoff_longitude']),\n",
    "    ('time', time_pipe, ['pickup_datetime'])\n",
    "], remainder=\"drop\")\n",
    "\n",
    "\n",
    "# display preprocessing pipeline\n",
    "preproc_pipe\n"
   ]
  },
  {
   "cell_type": "markdown",
   "metadata": {},
   "source": [
    "### Model pipeline\n",
    "\n",
    "Create a pipeline containing the preprocessing and the regression model of your choice."
   ]
  },
  {
   "cell_type": "code",
   "execution_count": 107,
   "metadata": {},
   "outputs": [
    {
     "data": {
      "text/html": [
       "<style>#sk-7779122f-1ee1-4a87-ad43-faeef4e822bd {color: black;background-color: white;}#sk-7779122f-1ee1-4a87-ad43-faeef4e822bd pre{padding: 0;}#sk-7779122f-1ee1-4a87-ad43-faeef4e822bd div.sk-toggleable {background-color: white;}#sk-7779122f-1ee1-4a87-ad43-faeef4e822bd label.sk-toggleable__label {cursor: pointer;display: block;width: 100%;margin-bottom: 0;padding: 0.3em;box-sizing: border-box;text-align: center;}#sk-7779122f-1ee1-4a87-ad43-faeef4e822bd label.sk-toggleable__label-arrow:before {content: \"▸\";float: left;margin-right: 0.25em;color: #696969;}#sk-7779122f-1ee1-4a87-ad43-faeef4e822bd label.sk-toggleable__label-arrow:hover:before {color: black;}#sk-7779122f-1ee1-4a87-ad43-faeef4e822bd div.sk-estimator:hover label.sk-toggleable__label-arrow:before {color: black;}#sk-7779122f-1ee1-4a87-ad43-faeef4e822bd div.sk-toggleable__content {max-height: 0;max-width: 0;overflow: hidden;text-align: left;background-color: #f0f8ff;}#sk-7779122f-1ee1-4a87-ad43-faeef4e822bd div.sk-toggleable__content pre {margin: 0.2em;color: black;border-radius: 0.25em;background-color: #f0f8ff;}#sk-7779122f-1ee1-4a87-ad43-faeef4e822bd input.sk-toggleable__control:checked~div.sk-toggleable__content {max-height: 200px;max-width: 100%;overflow: auto;}#sk-7779122f-1ee1-4a87-ad43-faeef4e822bd input.sk-toggleable__control:checked~label.sk-toggleable__label-arrow:before {content: \"▾\";}#sk-7779122f-1ee1-4a87-ad43-faeef4e822bd div.sk-estimator input.sk-toggleable__control:checked~label.sk-toggleable__label {background-color: #d4ebff;}#sk-7779122f-1ee1-4a87-ad43-faeef4e822bd div.sk-label input.sk-toggleable__control:checked~label.sk-toggleable__label {background-color: #d4ebff;}#sk-7779122f-1ee1-4a87-ad43-faeef4e822bd input.sk-hidden--visually {border: 0;clip: rect(1px 1px 1px 1px);clip: rect(1px, 1px, 1px, 1px);height: 1px;margin: -1px;overflow: hidden;padding: 0;position: absolute;width: 1px;}#sk-7779122f-1ee1-4a87-ad43-faeef4e822bd div.sk-estimator {font-family: monospace;background-color: #f0f8ff;border: 1px dotted black;border-radius: 0.25em;box-sizing: border-box;margin-bottom: 0.5em;}#sk-7779122f-1ee1-4a87-ad43-faeef4e822bd div.sk-estimator:hover {background-color: #d4ebff;}#sk-7779122f-1ee1-4a87-ad43-faeef4e822bd div.sk-parallel-item::after {content: \"\";width: 100%;border-bottom: 1px solid gray;flex-grow: 1;}#sk-7779122f-1ee1-4a87-ad43-faeef4e822bd div.sk-label:hover label.sk-toggleable__label {background-color: #d4ebff;}#sk-7779122f-1ee1-4a87-ad43-faeef4e822bd div.sk-serial::before {content: \"\";position: absolute;border-left: 1px solid gray;box-sizing: border-box;top: 2em;bottom: 0;left: 50%;}#sk-7779122f-1ee1-4a87-ad43-faeef4e822bd div.sk-serial {display: flex;flex-direction: column;align-items: center;background-color: white;padding-right: 0.2em;padding-left: 0.2em;}#sk-7779122f-1ee1-4a87-ad43-faeef4e822bd div.sk-item {z-index: 1;}#sk-7779122f-1ee1-4a87-ad43-faeef4e822bd div.sk-parallel {display: flex;align-items: stretch;justify-content: center;background-color: white;}#sk-7779122f-1ee1-4a87-ad43-faeef4e822bd div.sk-parallel::before {content: \"\";position: absolute;border-left: 1px solid gray;box-sizing: border-box;top: 2em;bottom: 0;left: 50%;}#sk-7779122f-1ee1-4a87-ad43-faeef4e822bd div.sk-parallel-item {display: flex;flex-direction: column;position: relative;background-color: white;}#sk-7779122f-1ee1-4a87-ad43-faeef4e822bd div.sk-parallel-item:first-child::after {align-self: flex-end;width: 50%;}#sk-7779122f-1ee1-4a87-ad43-faeef4e822bd div.sk-parallel-item:last-child::after {align-self: flex-start;width: 50%;}#sk-7779122f-1ee1-4a87-ad43-faeef4e822bd div.sk-parallel-item:only-child::after {width: 0;}#sk-7779122f-1ee1-4a87-ad43-faeef4e822bd div.sk-dashed-wrapped {border: 1px dashed gray;margin: 0 0.4em 0.5em 0.4em;box-sizing: border-box;padding-bottom: 0.4em;background-color: white;position: relative;}#sk-7779122f-1ee1-4a87-ad43-faeef4e822bd div.sk-label label {font-family: monospace;font-weight: bold;background-color: white;display: inline-block;line-height: 1.2em;}#sk-7779122f-1ee1-4a87-ad43-faeef4e822bd div.sk-label-container {position: relative;z-index: 2;text-align: center;}#sk-7779122f-1ee1-4a87-ad43-faeef4e822bd div.sk-container {/* jupyter's `normalize.less` sets `[hidden] { display: none; }` but bootstrap.min.css set `[hidden] { display: none !important; }` so we also need the `!important` here to be able to override the default hidden behavior on the sphinx rendered scikit-learn.org. See: https://github.com/scikit-learn/scikit-learn/issues/21755 */display: inline-block !important;position: relative;}#sk-7779122f-1ee1-4a87-ad43-faeef4e822bd div.sk-text-repr-fallback {display: none;}</style><div id=\"sk-7779122f-1ee1-4a87-ad43-faeef4e822bd\" class=\"sk-top-container\"><div class=\"sk-text-repr-fallback\"><pre>Pipeline(steps=[(&#x27;preproc&#x27;,\n",
       "                 ColumnTransformer(transformers=[(&#x27;distance&#x27;,\n",
       "                                                  Pipeline(steps=[(&#x27;dist_trans&#x27;,\n",
       "                                                                   DistanceTransformer()),\n",
       "                                                                  (&#x27;stdscaler&#x27;,\n",
       "                                                                   StandardScaler())]),\n",
       "                                                  [&#x27;pickup_latitude&#x27;,\n",
       "                                                   &#x27;pickup_longitude&#x27;,\n",
       "                                                   &#x27;dropoff_latitude&#x27;,\n",
       "                                                   &#x27;dropoff_longitude&#x27;]),\n",
       "                                                 (&#x27;time&#x27;,\n",
       "                                                  Pipeline(steps=[(&#x27;time_enc&#x27;,\n",
       "                                                                   TimeFeaturesEncoder(time_column=&#x27;pickup_datetime&#x27;)),\n",
       "                                                                  (&#x27;ohe&#x27;,\n",
       "                                                                   OneHotEncoder(handle_unknown=&#x27;ignore&#x27;))]),\n",
       "                                                  [&#x27;pickup_datetime&#x27;])])),\n",
       "                (&#x27;linear_model&#x27;, LinearRegression())])</pre><b>Please rerun this cell to show the HTML repr or trust the notebook.</b></div><div class=\"sk-container\" hidden><div class=\"sk-item sk-dashed-wrapped\"><div class=\"sk-label-container\"><div class=\"sk-label sk-toggleable\"><input class=\"sk-toggleable__control sk-hidden--visually\" id=\"bcdc64ca-eb17-4482-aac1-0a37a5be7289\" type=\"checkbox\" ><label for=\"bcdc64ca-eb17-4482-aac1-0a37a5be7289\" class=\"sk-toggleable__label sk-toggleable__label-arrow\">Pipeline</label><div class=\"sk-toggleable__content\"><pre>Pipeline(steps=[(&#x27;preproc&#x27;,\n",
       "                 ColumnTransformer(transformers=[(&#x27;distance&#x27;,\n",
       "                                                  Pipeline(steps=[(&#x27;dist_trans&#x27;,\n",
       "                                                                   DistanceTransformer()),\n",
       "                                                                  (&#x27;stdscaler&#x27;,\n",
       "                                                                   StandardScaler())]),\n",
       "                                                  [&#x27;pickup_latitude&#x27;,\n",
       "                                                   &#x27;pickup_longitude&#x27;,\n",
       "                                                   &#x27;dropoff_latitude&#x27;,\n",
       "                                                   &#x27;dropoff_longitude&#x27;]),\n",
       "                                                 (&#x27;time&#x27;,\n",
       "                                                  Pipeline(steps=[(&#x27;time_enc&#x27;,\n",
       "                                                                   TimeFeaturesEncoder(time_column=&#x27;pickup_datetime&#x27;)),\n",
       "                                                                  (&#x27;ohe&#x27;,\n",
       "                                                                   OneHotEncoder(handle_unknown=&#x27;ignore&#x27;))]),\n",
       "                                                  [&#x27;pickup_datetime&#x27;])])),\n",
       "                (&#x27;linear_model&#x27;, LinearRegression())])</pre></div></div></div><div class=\"sk-serial\"><div class=\"sk-item sk-dashed-wrapped\"><div class=\"sk-label-container\"><div class=\"sk-label sk-toggleable\"><input class=\"sk-toggleable__control sk-hidden--visually\" id=\"0660e958-1232-4bca-a8b7-370db1989c34\" type=\"checkbox\" ><label for=\"0660e958-1232-4bca-a8b7-370db1989c34\" class=\"sk-toggleable__label sk-toggleable__label-arrow\">preproc: ColumnTransformer</label><div class=\"sk-toggleable__content\"><pre>ColumnTransformer(transformers=[(&#x27;distance&#x27;,\n",
       "                                 Pipeline(steps=[(&#x27;dist_trans&#x27;,\n",
       "                                                  DistanceTransformer()),\n",
       "                                                 (&#x27;stdscaler&#x27;,\n",
       "                                                  StandardScaler())]),\n",
       "                                 [&#x27;pickup_latitude&#x27;, &#x27;pickup_longitude&#x27;,\n",
       "                                  &#x27;dropoff_latitude&#x27;, &#x27;dropoff_longitude&#x27;]),\n",
       "                                (&#x27;time&#x27;,\n",
       "                                 Pipeline(steps=[(&#x27;time_enc&#x27;,\n",
       "                                                  TimeFeaturesEncoder(time_column=&#x27;pickup_datetime&#x27;)),\n",
       "                                                 (&#x27;ohe&#x27;,\n",
       "                                                  OneHotEncoder(handle_unknown=&#x27;ignore&#x27;))]),\n",
       "                                 [&#x27;pickup_datetime&#x27;])])</pre></div></div></div><div class=\"sk-parallel\"><div class=\"sk-parallel-item\"><div class=\"sk-item\"><div class=\"sk-label-container\"><div class=\"sk-label sk-toggleable\"><input class=\"sk-toggleable__control sk-hidden--visually\" id=\"32c5418e-9b68-4dc5-806f-a761cf1d9aa1\" type=\"checkbox\" ><label for=\"32c5418e-9b68-4dc5-806f-a761cf1d9aa1\" class=\"sk-toggleable__label sk-toggleable__label-arrow\">distance</label><div class=\"sk-toggleable__content\"><pre>[&#x27;pickup_latitude&#x27;, &#x27;pickup_longitude&#x27;, &#x27;dropoff_latitude&#x27;, &#x27;dropoff_longitude&#x27;]</pre></div></div></div><div class=\"sk-serial\"><div class=\"sk-item\"><div class=\"sk-serial\"><div class=\"sk-item\"><div class=\"sk-estimator sk-toggleable\"><input class=\"sk-toggleable__control sk-hidden--visually\" id=\"b7b6ae88-758b-405c-9f59-b735d280cb8b\" type=\"checkbox\" ><label for=\"b7b6ae88-758b-405c-9f59-b735d280cb8b\" class=\"sk-toggleable__label sk-toggleable__label-arrow\">DistanceTransformer</label><div class=\"sk-toggleable__content\"><pre>DistanceTransformer()</pre></div></div></div><div class=\"sk-item\"><div class=\"sk-estimator sk-toggleable\"><input class=\"sk-toggleable__control sk-hidden--visually\" id=\"66e28404-c527-4a67-8e4a-fbc03cda511d\" type=\"checkbox\" ><label for=\"66e28404-c527-4a67-8e4a-fbc03cda511d\" class=\"sk-toggleable__label sk-toggleable__label-arrow\">StandardScaler</label><div class=\"sk-toggleable__content\"><pre>StandardScaler()</pre></div></div></div></div></div></div></div></div><div class=\"sk-parallel-item\"><div class=\"sk-item\"><div class=\"sk-label-container\"><div class=\"sk-label sk-toggleable\"><input class=\"sk-toggleable__control sk-hidden--visually\" id=\"c97f55df-4309-4c62-9921-db60e415a77d\" type=\"checkbox\" ><label for=\"c97f55df-4309-4c62-9921-db60e415a77d\" class=\"sk-toggleable__label sk-toggleable__label-arrow\">time</label><div class=\"sk-toggleable__content\"><pre>[&#x27;pickup_datetime&#x27;]</pre></div></div></div><div class=\"sk-serial\"><div class=\"sk-item\"><div class=\"sk-serial\"><div class=\"sk-item\"><div class=\"sk-estimator sk-toggleable\"><input class=\"sk-toggleable__control sk-hidden--visually\" id=\"146c0b04-08bf-41f6-bd37-6b507216015e\" type=\"checkbox\" ><label for=\"146c0b04-08bf-41f6-bd37-6b507216015e\" class=\"sk-toggleable__label sk-toggleable__label-arrow\">TimeFeaturesEncoder</label><div class=\"sk-toggleable__content\"><pre>TimeFeaturesEncoder(time_column=&#x27;pickup_datetime&#x27;)</pre></div></div></div><div class=\"sk-item\"><div class=\"sk-estimator sk-toggleable\"><input class=\"sk-toggleable__control sk-hidden--visually\" id=\"5757a222-c993-4e5f-931f-7ed5a43ab41f\" type=\"checkbox\" ><label for=\"5757a222-c993-4e5f-931f-7ed5a43ab41f\" class=\"sk-toggleable__label sk-toggleable__label-arrow\">OneHotEncoder</label><div class=\"sk-toggleable__content\"><pre>OneHotEncoder(handle_unknown=&#x27;ignore&#x27;)</pre></div></div></div></div></div></div></div></div></div></div><div class=\"sk-item\"><div class=\"sk-estimator sk-toggleable\"><input class=\"sk-toggleable__control sk-hidden--visually\" id=\"e533cb86-c974-446b-97d4-1c08853f6bca\" type=\"checkbox\" ><label for=\"e533cb86-c974-446b-97d4-1c08853f6bca\" class=\"sk-toggleable__label sk-toggleable__label-arrow\">LinearRegression</label><div class=\"sk-toggleable__content\"><pre>LinearRegression()</pre></div></div></div></div></div></div></div>"
      ],
      "text/plain": [
       "Pipeline(steps=[('preproc',\n",
       "                 ColumnTransformer(transformers=[('distance',\n",
       "                                                  Pipeline(steps=[('dist_trans',\n",
       "                                                                   DistanceTransformer()),\n",
       "                                                                  ('stdscaler',\n",
       "                                                                   StandardScaler())]),\n",
       "                                                  ['pickup_latitude',\n",
       "                                                   'pickup_longitude',\n",
       "                                                   'dropoff_latitude',\n",
       "                                                   'dropoff_longitude']),\n",
       "                                                 ('time',\n",
       "                                                  Pipeline(steps=[('time_enc',\n",
       "                                                                   TimeFeaturesEncoder(time_column='pickup_datetime')),\n",
       "                                                                  ('ohe',\n",
       "                                                                   OneHotEncoder(handle_unknown='ignore'))]),\n",
       "                                                  ['pickup_datetime'])])),\n",
       "                ('linear_model', LinearRegression())])"
      ]
     },
     "execution_count": 107,
     "metadata": {},
     "output_type": "execute_result"
    }
   ],
   "source": [
    "from sklearn.linear_model import LinearRegression, LassoCV\n",
    "\n",
    "# Add the model of your choice to the pipeline\n",
    "pipe = Pipeline([\n",
    "    ('preproc', preproc_pipe),\n",
    "    ('linear_model', LinearRegression())\n",
    "])\n",
    "\n",
    "# display the pipeline with model\n",
    "pipe"
   ]
  },
  {
   "cell_type": "markdown",
   "metadata": {},
   "source": [
    "### Training and performance"
   ]
  },
  {
   "cell_type": "markdown",
   "metadata": {},
   "source": [
    "Train the pipelined model and compute the prediction on the test set:"
   ]
  },
  {
   "cell_type": "code",
   "execution_count": 108,
   "metadata": {},
   "outputs": [],
   "source": [
    "# train the pipelined model\n",
    "pipe.fit(X_train, y_train)\n",
    "\n",
    "# compute y_pred on the test set\n",
    "y_pred = pipe.predict(X_test)"
   ]
  },
  {
   "cell_type": "markdown",
   "metadata": {},
   "source": [
    "Use the RMSE to evaluate the performance of the model:"
   ]
  },
  {
   "cell_type": "code",
   "execution_count": 109,
   "metadata": {},
   "outputs": [],
   "source": [
    "def compute_rmse(y_pred, y_true):\n",
    "    return np.sqrt(((y_pred - y_true)**2).mean())"
   ]
  },
  {
   "cell_type": "code",
   "execution_count": 110,
   "metadata": {},
   "outputs": [
    {
     "data": {
      "text/plain": [
       "0.21717642966477957"
      ]
     },
     "execution_count": 110,
     "metadata": {},
     "output_type": "execute_result"
    }
   ],
   "source": [
    "# call compute_rmse\n",
    "compute_rmse(y_pred, y_test)"
   ]
  },
  {
   "cell_type": "markdown",
   "metadata": {},
   "source": [
    "## Complete the workflow with a pipeline"
   ]
  },
  {
   "cell_type": "markdown",
   "metadata": {},
   "source": [
    "Here we will implement the whole workflow for our Taxifare kaggle challenge.\n",
    "\n",
    "For that we will refactor the code in functions for more clarity.\n",
    "\n",
    "Implement the following functions:\n",
    "- `get_data()` to fetch the data from AWS\n",
    "- `clean_data()` to clean the data\n",
    "- `get_pipeline()` to get the pipeline defined earlier\n",
    "- `train()` to train our model\n",
    "- `evaluate()` to evaluate our model on test data"
   ]
  },
  {
   "cell_type": "code",
   "execution_count": 111,
   "metadata": {},
   "outputs": [],
   "source": [
    "# implement get_data() function\n",
    "def get_data(nrows=10000):\n",
    "    '''returns a DataFrame with nrows from s3 bucket'''\n",
    "    aws_path = \"s3://wagon-public-datasets/taxi-fare-train.csv\"\n",
    "    df = pd.read_csv(aws_path, nrows=nrows)\n",
    "    return df"
   ]
  },
  {
   "cell_type": "code",
   "execution_count": 112,
   "metadata": {},
   "outputs": [],
   "source": [
    "# implement clean_data() function\n",
    "def clean_data(df, test=False):\n",
    "    '''returns a DataFrame without outliers and missing values'''\n",
    "    df = df.dropna(how='any')\n",
    "    df = df[(df.dropoff_latitude != 0) | (df.dropoff_longitude != 0)]\n",
    "    df = df[(df.pickup_latitude != 0) | (df.pickup_longitude != 0)]\n",
    "    if \"fare_amount\" in list(df):\n",
    "        df = df[df.fare_amount.between(0, 4000)]\n",
    "    df = df[df.passenger_count < 8]\n",
    "    df = df[df.passenger_count >= 0]\n",
    "    df = df[df[\"pickup_latitude\"].between(left=40, right=42)]\n",
    "    df = df[df[\"pickup_longitude\"].between(left=-74.3, right=-72.9)]\n",
    "    df = df[df[\"dropoff_latitude\"].between(left=40, right=42)]\n",
    "    df = df[df[\"dropoff_longitude\"].between(left=-74, right=-72.9)]\n",
    "    return df"
   ]
  },
  {
   "cell_type": "code",
   "execution_count": 113,
   "metadata": {},
   "outputs": [],
   "source": [
    "# implement set_pipeline() function\n",
    "def set_pipeline():\n",
    "    '''returns a pipelined model'''\n",
    "    dist_pipe = Pipeline([\n",
    "        ('dist_trans', DistanceTransformer()),\n",
    "        ('stdscaler', StandardScaler())\n",
    "    ])\n",
    "    time_pipe = Pipeline([\n",
    "        ('time_enc', TimeFeaturesEncoder('pickup_datetime')),\n",
    "        ('ohe', OneHotEncoder(handle_unknown='ignore'))\n",
    "    ])\n",
    "    preproc_pipe = ColumnTransformer([\n",
    "        ('distance', dist_pipe, [\"pickup_latitude\", \"pickup_longitude\", 'dropoff_latitude', 'dropoff_longitude']),\n",
    "        ('time', time_pipe, ['pickup_datetime'])\n",
    "    ], remainder=\"drop\")\n",
    "    pipe = Pipeline([\n",
    "        ('preproc', preproc_pipe),\n",
    "        ('linear_model', LassoCV())\n",
    "    ])\n",
    "    return pipe"
   ]
  },
  {
   "cell_type": "code",
   "execution_count": 114,
   "metadata": {},
   "outputs": [],
   "source": [
    "# implement train() function\n",
    "def train(X_train, y_train, pipeline):\n",
    "    '''returns a trained pipelined model'''\n",
    "    pipeline.fit(X_train, y_train)\n",
    "    return pipeline"
   ]
  },
  {
   "cell_type": "code",
   "execution_count": 115,
   "metadata": {},
   "outputs": [],
   "source": [
    "# implement evaluate() function\n",
    "def evaluate(X_test, y_test, pipeline):\n",
    "    '''returns the value of the RMSE'''\n",
    "    y_pred = pipeline.predict(X_test)\n",
    "    rmse = compute_rmse(y_pred, y_test)\n",
    "    print(rmse)\n",
    "    return rmse"
   ]
  },
  {
   "cell_type": "markdown",
   "metadata": {},
   "source": [
    "### Test the complete worflow\n",
    "\n",
    "Use the above functions to test the complete workflow."
   ]
  },
  {
   "cell_type": "code",
   "execution_count": 116,
   "metadata": {},
   "outputs": [
    {
     "name": "stdout",
     "output_type": "stream",
     "text": [
      "6.416467208956363\n"
     ]
    }
   ],
   "source": [
    "# store the data in a DataFrame\n",
    "df = clean_data(get_data())\n",
    "\n",
    "# set X and y\n",
    "y = df[\"fare_amount\"]\n",
    "X = df.drop(\"fare_amount\", axis=1)\n",
    "\n",
    "# hold out\n",
    "X_train, X_val, y_train, y_val = train_test_split(X, y, test_size=0.2)\n",
    "\n",
    "# build pipeline\n",
    "pipeline = set_pipeline()\n",
    "\n",
    "# train the pipeline\n",
    "pipeline = train(X_train, y_train, pipeline)\n",
    "\n",
    "# evaluate the pipeline\n",
    "rmse = evaluate(X_val, y_val, pipeline)"
   ]
  }
 ],
 "metadata": {
  "challengify": {
   "keep_output": true
  },
  "kernelspec": {
   "display_name": "Python 3 (ipykernel)",
   "language": "python",
   "name": "python3"
  },
  "language_info": {
   "codemirror_mode": {
    "name": "ipython",
    "version": 3
   },
   "file_extension": ".py",
   "mimetype": "text/x-python",
   "name": "python",
   "nbconvert_exporter": "python",
   "pygments_lexer": "ipython3",
   "version": "3.8.12"
  },
  "toc": {
   "base_numbering": 1,
   "nav_menu": {},
   "number_sections": true,
   "sideBar": true,
   "skip_h1_title": false,
   "title_cell": "Table of Contents",
   "title_sidebar": "Contents",
   "toc_cell": false,
   "toc_position": {},
   "toc_section_display": true,
   "toc_window_display": false
  },
  "varInspector": {
   "cols": {
    "lenName": 16,
    "lenType": 16,
    "lenVar": 40
   },
   "kernels_config": {
    "python": {
     "delete_cmd_postfix": "",
     "delete_cmd_prefix": "del ",
     "library": "var_list.py",
     "varRefreshCmd": "print(var_dic_list())"
    },
    "r": {
     "delete_cmd_postfix": ") ",
     "delete_cmd_prefix": "rm(",
     "library": "var_list.r",
     "varRefreshCmd": "cat(var_dic_list()) "
    }
   },
   "types_to_exclude": [
    "module",
    "function",
    "builtin_function_or_method",
    "instance",
    "_Feature"
   ],
   "window_display": false
  }
 },
 "nbformat": 4,
 "nbformat_minor": 4
}
